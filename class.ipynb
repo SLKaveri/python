{
 "cells": [
  {
   "cell_type": "code",
   "execution_count": 1,
   "id": "15dcc96d-a815-4758-92d9-4702ab32ada0",
   "metadata": {},
   "outputs": [
    {
     "name": "stdout",
     "output_type": "stream",
     "text": [
      "9\n"
     ]
    }
   ],
   "source": [
    "class ab:\n",
    "    value=9\n",
    "obj1= ab()\n",
    "print(obj1.value)"
   ]
  },
  {
   "cell_type": "code",
   "execution_count": 3,
   "id": "f84e5e46-ce68-4bc2-acc6-4f4177dc1903",
   "metadata": {},
   "outputs": [
    {
     "name": "stdout",
     "output_type": "stream",
     "text": [
      "9\n",
      "this is a CLASS method\n"
     ]
    }
   ],
   "source": [
    "class ab():\n",
    "    value=9\n",
    "    def display(self):\n",
    "        print(\"this is a CLASS method\")\n",
    "obj1=ab()\n",
    "print(obj1.value)\n",
    "obj1.display()"
   ]
  },
  {
   "cell_type": "code",
   "execution_count": 9,
   "id": "0276fef1-2b54-4f2d-906e-582336d911cb",
   "metadata": {},
   "outputs": [
    {
     "name": "stdout",
     "output_type": "stream",
     "text": [
      "8\n",
      "this is ravi\n"
     ]
    }
   ],
   "source": [
    "class ab():\n",
    "    value=8\n",
    "    def display(self):\n",
    "        print(\"this is ravi\")\n",
    "obj1=ab()\n",
    "print(obj1.value)\n",
    "obj1.display()"
   ]
  },
  {
   "cell_type": "code",
   "execution_count": 23,
   "id": "c6331ded-8a49-459a-a303-64173f8114d9",
   "metadata": {},
   "outputs": [
    {
     "name": "stdin",
     "output_type": "stream",
     "text": [
      "enter a value: 200\n"
     ]
    },
    {
     "name": "stdout",
     "output_type": "stream",
     "text": [
      "this is a class method\n",
      "Accessed value in class is  200\n"
     ]
    }
   ],
   "source": [
    "class abc():\n",
    "    def __init__(self, value):\n",
    "       print(\"this is a class method\")\n",
    "       self.value=value\n",
    "       print(\"Accessed value in class is \",value)\n",
    "num =int(input(\"enter a value:\"))\n",
    "obj=abc(num)"
   ]
  },
  {
   "cell_type": "code",
   "execution_count": 25,
   "id": "de71f039-c782-483e-93a0-9a7024e103db",
   "metadata": {},
   "outputs": [
    {
     "name": "stdout",
     "output_type": "stream",
     "text": [
      "Hello ,I am ravi and i am 20 years.old\n"
     ]
    }
   ],
   "source": [
    "class student():\n",
    "    def __init__(self, name, age):\n",
    "        self.name=name\n",
    "        self.age=age\n",
    "    def hi(self):\n",
    "        print(f\"Hello ,I am {self.name} and i am {self.age} years.old\")\n",
    "s=student('ravi',20)\n",
    "s.hi()"
   ]
  },
  {
   "cell_type": "code",
   "execution_count": 41,
   "id": "494fb67e-6306-49f5-8e73-06c4abb96e6c",
   "metadata": {},
   "outputs": [
    {
     "name": "stdin",
     "output_type": "stream",
     "text": [
      "enter the radius: 4\n"
     ]
    },
    {
     "name": "stdout",
     "output_type": "stream",
     "text": [
      "area of circle : 50.26548245743669\n",
      "circumference of circle : 25.132741228718345\n"
     ]
    }
   ],
   "source": [
    "import math\n",
    "class circle:\n",
    "    def __init__(self, radius):\n",
    "        self.radius=radius\n",
    "    def area(self):\n",
    "        return math.pi* self.radius**2\n",
    "    def cir(self):\n",
    "        return 2*math.pi*self.radius\n",
    "r=int(input(\"enter the radius:\"))\n",
    "c=circle(r)\n",
    "print(\"area of circle :\",c.area())\n",
    "print(\"circumference of circle :\",c.cir())"
   ]
  },
  {
   "cell_type": "code",
   "execution_count": 43,
   "id": "2cc8a6ba-5ad0-410e-b62f-4bd98929076f",
   "metadata": {},
   "outputs": [
    {
     "name": "stdin",
     "output_type": "stream",
     "text": [
      "enter the number: 5\n"
     ]
    },
    {
     "name": "stdout",
     "output_type": "stream",
     "text": [
      "factorial: 120\n"
     ]
    }
   ],
   "source": [
    "class math:\n",
    "    def __init__(self,num):\n",
    "        self.num=num\n",
    "    def fact(self):\n",
    "        f=1\n",
    "        for i in range(1, self.num+1):\n",
    "            f*=i\n",
    "        return f\n",
    "number=int(input(\"enter the number:\"))\n",
    "m= math(number)\n",
    "print(\"factorial:\",m.fact())"
   ]
  },
  {
   "cell_type": "code",
   "execution_count": 51,
   "id": "9aa3ec26-8def-414d-981c-e9d8df0e9ab8",
   "metadata": {},
   "outputs": [
    {
     "name": "stdin",
     "output_type": "stream",
     "text": [
      "enter the number 9\n"
     ]
    },
    {
     "name": "stdout",
     "output_type": "stream",
     "text": [
      " squqreRoot: 3.00\n"
     ]
    }
   ],
   "source": [
    "import math\n",
    "class squareRoot:\n",
    "    def __init__(self,num):\n",
    "        self.num= num\n",
    "    def find_root(self):\n",
    "        return math.sqrt(self.num)\n",
    "num= float(input(\"enter the number\"))\n",
    "s= squareRoot(num)\n",
    "print(f\" squqreRoot: {s.find_root():.2f}\")"
   ]
  },
  {
   "cell_type": "code",
   "execution_count": 53,
   "id": "eb5231ff-e289-4231-8f44-f05265f104eb",
   "metadata": {},
   "outputs": [
    {
     "name": "stdout",
     "output_type": "stream",
     "text": [
      "even list: [32, 38]\n",
      "odd list: [21, 33, 53]\n"
     ]
    }
   ],
   "source": [
    "class number:\n",
    "    even=[]\n",
    "    odd=[]\n",
    "    def __init__(self,n):\n",
    "        self.n=n\n",
    "        if n%2==0:\n",
    "            number.even.append(n)\n",
    "        else:\n",
    "            number.odd.append(n)\n",
    "n1=number(21)\n",
    "n2=number(33)\n",
    "n3=number(32)\n",
    "n4=number(38)\n",
    "n5=number(53)\n",
    "print(\"even list:\", number.even)\n",
    "print(\"odd list:\",number.odd)"
   ]
  },
  {
   "cell_type": "code",
   "execution_count": null,
   "id": "9133dedf-04f2-4fdb-8c27-909f8a16172d",
   "metadata": {},
   "outputs": [],
   "source": []
  }
 ],
 "metadata": {
  "kernelspec": {
   "display_name": "Python 3 (ipykernel)",
   "language": "python",
   "name": "python3"
  },
  "language_info": {
   "codemirror_mode": {
    "name": "ipython",
    "version": 3
   },
   "file_extension": ".py",
   "mimetype": "text/x-python",
   "name": "python",
   "nbconvert_exporter": "python",
   "pygments_lexer": "ipython3",
   "version": "3.12.7"
  }
 },
 "nbformat": 4,
 "nbformat_minor": 5
}
