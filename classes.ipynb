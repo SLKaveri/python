{
 "cells": [
  {
   "cell_type": "code",
   "execution_count": 7,
   "id": "79a0ae28-2b22-478f-a6c8-bd7df8ffc6a6",
   "metadata": {},
   "outputs": [
    {
     "name": "stdin",
     "output_type": "stream",
     "text": [
      "enter the name: nani\n",
      "enter the marks: 85\n"
     ]
    },
    {
     "name": "stdout",
     "output_type": "stream",
     "text": [
      "student name:nani\n",
      "student marks:85\n"
     ]
    }
   ],
   "source": [
    "class student:\n",
    "    def __init__(s,name, marks):\n",
    "        s.name=name\n",
    "        s.marks=marks\n",
    "    def display(self):\n",
    "        print(f\"student name:{s.name}\")\n",
    "        print(f\"student marks:{s.marks}\")\n",
    "name= str(input(\"enter the name:\"))\n",
    "marks=int(input(\"enter the marks:\"))\n",
    "s= student(name, marks)\n",
    "s.display()"
   ]
  },
  {
   "cell_type": "code",
   "execution_count": 21,
   "id": "f19ab621-19a3-459a-8a7c-125e8fe27e7c",
   "metadata": {},
   "outputs": [
    {
     "name": "stdin",
     "output_type": "stream",
     "text": [
      "Enter the name: nani\n",
      "Enter the marks: 84\n"
     ]
    },
    {
     "name": "stdout",
     "output_type": "stream",
     "text": [
      "student name:nani\n",
      "student marks:84\n"
     ]
    }
   ],
   "source": [
    "class student:\n",
    "    def __init__(self, name, marks):\n",
    "        self.name=name\n",
    "        self.marks=marks\n",
    "    @classmethod\n",
    "    def input(cls):\n",
    "        name=str(input(\"Enter the name:\"))\n",
    "        marks=int(input(\"Enter the marks:\"))\n",
    "        return cls(name,marks)\n",
    "    def display(self):\n",
    "        print(f\"student name:{self.name}\")\n",
    "        print(f\"student marks:{self.marks}\")\n",
    "s= student.input()\n",
    "s.display()"
   ]
  },
  {
   "cell_type": "code",
   "execution_count": 37,
   "id": "5f5c7786-7234-478d-bad3-b46c9c207fcb",
   "metadata": {},
   "outputs": [
    {
     "name": "stdin",
     "output_type": "stream",
     "text": [
      "Enter the product name: realme\n",
      "Enter the base price: 30000\n",
      "Enter tax_rate in %: 5\n"
     ]
    },
    {
     "name": "stdout",
     "output_type": "stream",
     "text": [
      " Final price of realme is Rs.31500.00\n"
     ]
    }
   ],
   "source": [
    "class product:\n",
    "    tax_rate=0.18\n",
    "    def __init__(self, name, price):\n",
    "        self.name=name\n",
    "        self.price=price\n",
    "    def finalprice(self):\n",
    "        total=self.price*(1+product.tax_rate)\n",
    "        print(f\" Final price of {self.name} is Rs.{total:.2f}\")\n",
    "    @classmethod\n",
    "    def settax(cls, rate):\n",
    "        cls.tax_rate=rate/100\n",
    "name=str(input(\"Enter the product name:\"))\n",
    "price=float(input(\"Enter the base price:\"))\n",
    "rate=int(input(\"Enter tax_rate in %:\"))\n",
    "product.settax(rate)\n",
    "item=product(name, price)\n",
    "item.finalprice()\n",
    "        "
   ]
  },
  {
   "cell_type": "code",
   "execution_count": 41,
   "id": "ff90d0ef-4ec9-4cdd-a014-b0140cce3f8b",
   "metadata": {},
   "outputs": [
    {
     "name": "stdin",
     "output_type": "stream",
     "text": [
      "Enter the value of a:  11\n",
      "Enter the value of b:  2\n"
     ]
    },
    {
     "name": "stdout",
     "output_type": "stream",
     "text": [
      "Addition result: 13\n"
     ]
    }
   ],
   "source": [
    "class calculator:\n",
    "    def __init__(s,a,b):\n",
    "        s.a=a\n",
    "        s.b=b\n",
    "    @classmethod\n",
    "    def input(cls):\n",
    "        a=int(input(\"Enter the value of a: \"))\n",
    "        b=int(input(\"Enter the value of b: \"))\n",
    "        return cls(a,b)\n",
    "    def add(s):\n",
    "        return s.a+s.b\n",
    "c=calculator.input()\n",
    "print(\"Addition result:\",c.add())\n"
   ]
  },
  {
   "cell_type": "code",
   "execution_count": 53,
   "id": "fec5cffd-b0e5-4270-bfec-13728a170a3f",
   "metadata": {},
   "outputs": [
    {
     "name": "stdin",
     "output_type": "stream",
     "text": [
      "Enter the value of a:  10\n",
      "Enter the value of b:  9\n"
     ]
    },
    {
     "name": "stdout",
     "output_type": "stream",
     "text": [
      "sub: 1\n",
      "add: 19\n",
      "prod: 90\n",
      "mul: 1.1111111111111112\n"
     ]
    }
   ],
   "source": [
    "class calculator:\n",
    "    def __init__(s,a,b):\n",
    "        s.a=a\n",
    "        s.b=b\n",
    "    @classmethod\n",
    "    def input(cls):\n",
    "        a=int(input(\"Enter the value of a: \"))\n",
    "        b=int(input(\"Enter the value of b: \"))\n",
    "        return cls(a,b)\n",
    "    def op(s):\n",
    "        print(\"sub:\", s.a-s.b)\n",
    "        print(\"add:\", s.a+s.b)\n",
    "        print(\"prod:\",s.a*s.b)\n",
    "        print(\"mul:\",s.a/s.b)\n",
    "c=calculator.input()\n",
    "c.op()"
   ]
  },
  {
   "cell_type": "code",
   "execution_count": 63,
   "id": "f9d60af2-638a-4b80-8173-436d2b64efcb",
   "metadata": {},
   "outputs": [
    {
     "name": "stdin",
     "output_type": "stream",
     "text": [
      "Enter your name: jai\n",
      "Enter resident or non-resident: indain\n"
     ]
    },
    {
     "name": "stdout",
     "output_type": "stream",
     "text": [
      "name:jai\n",
      "student name: female\n",
      "non_resident indian\n"
     ]
    }
   ],
   "source": [
    "class student:\n",
    "    gender='female'\n",
    "    def __init__(s,name):\n",
    "        s.name=name\n",
    "    def display(s):\n",
    "        print(f\"name:{s.name}\")\n",
    "    @classmethod\n",
    "    def getname(cls):\n",
    "        return cls.gender\n",
    "   \n",
    "    @staticmethod\n",
    "    def resident(type_of_resident):\n",
    "        if type_of_resident.lower()=='indian':\n",
    "            return \"the person is indian\"\n",
    "        else:\n",
    "            return \"non_resident indian\"\n",
    "\n",
    "name= str(input(\"Enter your name:\"))\n",
    "type=input(\"Enter resident or non-resident:\")\n",
    "s=student(name)\n",
    "s.display()\n",
    "print(\"student name:\",student.getname() )\n",
    "print(s.resident(type))"
   ]
  },
  {
   "cell_type": "code",
   "execution_count": null,
   "id": "f0690587-b9d0-4597-aa3c-bcf7affa1009",
   "metadata": {},
   "outputs": [],
   "source": []
  }
 ],
 "metadata": {
  "kernelspec": {
   "display_name": "Python 3 (ipykernel)",
   "language": "python",
   "name": "python3"
  },
  "language_info": {
   "codemirror_mode": {
    "name": "ipython",
    "version": 3
   },
   "file_extension": ".py",
   "mimetype": "text/x-python",
   "name": "python",
   "nbconvert_exporter": "python",
   "pygments_lexer": "ipython3",
   "version": "3.12.7"
  }
 },
 "nbformat": 4,
 "nbformat_minor": 5
}
