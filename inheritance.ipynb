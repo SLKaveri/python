{
 "cells": [
  {
   "cell_type": "code",
   "execution_count": 3,
   "id": "8792b586-91ad-4723-9176-af101a372494",
   "metadata": {},
   "outputs": [
    {
     "name": "stdout",
     "output_type": "stream",
     "text": [
      "engine started.....\n",
      "The car is being drove\n"
     ]
    }
   ],
   "source": [
    "class vehicle:\n",
    "    def start_engine(self):\n",
    "        print(\"engine started.....\")\n",
    "class car(vehicle):\n",
    "    def drive(self):\n",
    "        print(\"The car is being drove\")\n",
    "c=car()\n",
    "c.start_engine()\n",
    "c.drive()"
   ]
  },
  {
   "cell_type": "code",
   "execution_count": 5,
   "id": "1f3cb380-33e0-4caa-ba73-7eaba7dd1520",
   "metadata": {},
   "outputs": [
    {
     "name": "stdout",
     "output_type": "stream",
     "text": [
      "selling started....\n",
      "The apple is being eat\n"
     ]
    }
   ],
   "source": [
    "class furites:\n",
    "    def start_sell(self):\n",
    "        print(\"selling started....\")\n",
    "class apple(furites):\n",
    "    def eat(self):\n",
    "        print(\"The apple is being eat\")\n",
    "c=apple()\n",
    "c.start_sell()\n",
    "c.eat()"
   ]
  },
  {
   "cell_type": "code",
   "execution_count": 9,
   "id": "e0e5e723-6ba3-44ba-95fe-b5dd046bc0c0",
   "metadata": {},
   "outputs": [
    {
     "name": "stdout",
     "output_type": "stream",
     "text": [
      "I am a student\n",
      "The student is studying!!\n"
     ]
    }
   ],
   "source": [
    "class preson:\n",
    "    def info(self):\n",
    "        print(\"I am a student\")\n",
    "class student(preson):\n",
    "    def study(self):\n",
    "        print(\"The student is studying!!\")\n",
    "s=student()\n",
    "s.info()\n",
    "s.study()"
   ]
  },
  {
   "cell_type": "code",
   "execution_count": 13,
   "id": "dced061c-0a43-4b22-a5cc-c5c559e53d6a",
   "metadata": {},
   "outputs": [
    {
     "name": "stdin",
     "output_type": "stream",
     "text": [
      "enter the value of num1:  5\n",
      "enter the value of num2:  5\n"
     ]
    },
    {
     "name": "stdout",
     "output_type": "stream",
     "text": [
      "the result is 10\n"
     ]
    }
   ],
   "source": [
    "class operate:\n",
    "    def userdata(self):\n",
    "        self.num1=int(input(\"enter the value of num1: \"))\n",
    "        self.num2=int(input(\"enter the value of num2: \"))\n",
    "class summate(operate):\n",
    "    def add(self):\n",
    "        result=self.num1+self.num2\n",
    "        print(f\"the result is {result}\")\n",
    "c=summate()\n",
    "c.userdata()\n",
    "c.add()"
   ]
  },
  {
   "cell_type": "code",
   "execution_count": 17,
   "id": "a729d3bd-b5bb-4a2f-9e23-cd84c76ed10f",
   "metadata": {},
   "outputs": [
    {
     "name": "stdin",
     "output_type": "stream",
     "text": [
      "enter the value of n1:  10\n",
      "enter the value of n1:  4\n"
     ]
    },
    {
     "name": "stdout",
     "output_type": "stream",
     "text": [
      "the result is6\n"
     ]
    }
   ],
   "source": [
    "class operate:\n",
    "    def userdata(self):\n",
    "        self.n1=int(input(\"enter the value of n1: \"))\n",
    "        self.n2=int(input(\"enter the value of n1: \"))\n",
    "class summate(operate):\n",
    "    def sub(self):\n",
    "        result=self.n1-self.n2\n",
    "        print(f\"the result is{result}\")\n",
    "c=summate()\n",
    "c.userdata()\n",
    "c.sub()"
   ]
  },
  {
   "cell_type": "code",
   "execution_count": 35,
   "id": "7da59912-e315-4af2-91d3-8ac3f13ab50e",
   "metadata": {},
   "outputs": [
    {
     "name": "stdin",
     "output_type": "stream",
     "text": [
      "enter the value of n1:  40\n",
      "enter the value of n2:  2\n"
     ]
    },
    {
     "name": "stdout",
     "output_type": "stream",
     "text": [
      "the result is 20.0\n"
     ]
    }
   ],
   "source": [
    "class operate():\n",
    "    def userinput(self):\n",
    "        self.n1=int(input(\"enter the value of n1: \"))\n",
    "        self.n2=int(input(\"enter the value of n2: \"))\n",
    "class summate(operate):\n",
    "    def division(self):\n",
    "        try:\n",
    "            result=self.n1/self.n2\n",
    "            print(f\"the result is {result}\")\n",
    "        except ZeroDivisionError:\n",
    "            print(\"error\")\n",
    "c=summate()\n",
    "c.userinput()\n",
    "c.division()"
   ]
  },
  {
   "cell_type": "code",
   "execution_count": 47,
   "id": "9d2e89f8-7b1d-4dc8-a17a-855b794619ae",
   "metadata": {},
   "outputs": [
    {
     "name": "stdin",
     "output_type": "stream",
     "text": [
      "enter name: ravi\n",
      "enter employee id:  33\n",
      "enter department:  fff\n"
     ]
    },
    {
     "name": "stdout",
     "output_type": "stream",
     "text": [
      "Name: ravi\n",
      "employee_id:33\n",
      "Department:fff\n"
     ]
    }
   ],
   "source": [
    "class intern:\n",
    "    def __init__(self,name):\n",
    "        self.name=name\n",
    "    def display_intern(self):\n",
    "        print(f\"Name: {self.name}\")\n",
    "class employee(intern):\n",
    "    def __init__(self,name,emp_id):\n",
    "        super().__init__(name)\n",
    "        self.emp_id=emp_id\n",
    "    def display_employee(self):\n",
    "        print(f\"employee Id:{self.emp_id}\")\n",
    "class manager(employee):\n",
    "    def __init__(self, name, emp_id, dept):\n",
    "        super().__init__(name, emp_id)\n",
    "        self.dept=dept\n",
    "    def display_manager(self):\n",
    "        print(f\"Department:{self.dept}\")\n",
    "name=input(\"enter name:\")\n",
    "emp_id=input(\"enter employee id: \")\n",
    "dept=input(\"enter department: \")\n",
    "m=manager(name,emp_id,dept)\n",
    "m.display_intern()\n",
    "m.display_employee()\n",
    "m.display_manager()"
   ]
  },
  {
   "cell_type": "code",
   "execution_count": 59,
   "id": "a0e4732b-736d-4ded-88c3-44d8bec9ed2f",
   "metadata": {},
   "outputs": [
    {
     "name": "stdin",
     "output_type": "stream",
     "text": [
      "enter name: srujana\n",
      "enter student id: h4\n",
      "enter department: csm\n"
     ]
    },
    {
     "name": "stdout",
     "output_type": "stream",
     "text": [
      "Name:srujana\n",
      "student ID:h4\n",
      "Department:csm\n"
     ]
    }
   ],
   "source": [
    "class intern:\n",
    "    def __init__(self,name):\n",
    "        self.name=name\n",
    "    def display_intern(self):\n",
    "        print(f\"Name:{self.name}\")\n",
    "class student(intern):\n",
    "    def __init__(self,name, stud_id):\n",
    "        super().__init__(name)\n",
    "        self.stud_id=stud_id\n",
    "    def display_student(self):\n",
    "        print(f\"student ID:{self.stud_id}\")\n",
    "class college(student):\n",
    "    def __init__(self, name, stud_id, dept):\n",
    "        super().__init__(name, stud_id)\n",
    "        self.dept=dept\n",
    "    def display_college(self):\n",
    "        print(f\"Department:{self.dept}\")\n",
    "name=input(\"enter name:\")\n",
    "stud_id=input(\"enter student id:\")\n",
    "dept=input(\"enter department:\")\n",
    "c=college(name,stud_id,dept)\n",
    "c.display_intern()\n",
    "c.display_student()\n",
    "c.display_college()"
   ]
  },
  {
   "cell_type": "code",
   "execution_count": 67,
   "id": "c4de4050-9ebc-453d-8715-b0d3e3fbd539",
   "metadata": {},
   "outputs": [
    {
     "name": "stdin",
     "output_type": "stream",
     "text": [
      "enter num1: 55\n",
      "enter num2: 10\n"
     ]
    },
    {
     "name": "stdout",
     "output_type": "stream",
     "text": [
      "sum:65.0\n",
      "Multiply:550.0\n"
     ]
    }
   ],
   "source": [
    "class userinput:\n",
    "    def __init__(self):\n",
    "        self.num1=float(input(\"enter num1:\"))\n",
    "        self.num2=float(input(\"enter num2:\"))\n",
    "class operate(userinput):\n",
    "    def __init__(self):\n",
    "        super().__init__()\n",
    "    def add(self):\n",
    "        return self.num1+self.num2\n",
    "    def mul(self):\n",
    "        return self.num1*self.num2\n",
    "class result(operate):\n",
    "    def __init__(self):\n",
    "        super().__init__()\n",
    "    def display(self):\n",
    "        print(f\"sum:{self.add()}\")\n",
    "        print(f\"Multiply:{self.mul()}\")\n",
    "r=result()\n",
    "r.display()"
   ]
  },
  {
   "cell_type": "code",
   "execution_count": null,
   "id": "f39f497e-412b-4282-8868-29fe013be73d",
   "metadata": {},
   "outputs": [],
   "source": []
  }
 ],
 "metadata": {
  "kernelspec": {
   "display_name": "Python 3 (ipykernel)",
   "language": "python",
   "name": "python3"
  },
  "language_info": {
   "codemirror_mode": {
    "name": "ipython",
    "version": 3
   },
   "file_extension": ".py",
   "mimetype": "text/x-python",
   "name": "python",
   "nbconvert_exporter": "python",
   "pygments_lexer": "ipython3",
   "version": "3.12.7"
  }
 },
 "nbformat": 4,
 "nbformat_minor": 5
}
